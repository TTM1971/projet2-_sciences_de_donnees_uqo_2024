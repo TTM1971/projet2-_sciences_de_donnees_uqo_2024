{
 "cells": [
  {
   "cell_type": "markdown",
   "metadata": {},
   "source": [
    "#UQO\n",
    "## PROJET2 DE SCIENCES DE DONNEES \n",
    "AUTOMNE 2024\n"
   ]
  },
  {
   "cell_type": "markdown",
   "metadata": {},
   "source": [
    "# MENBRES DU GROUPE\n",
    "MEGANE\n",
    "BRYAN\n",
    "NELI"
   ]
  },
  {
   "cell_type": "markdown",
   "metadata": {},
   "source": [
    "#OBJECTIFS:\n"
   ]
  },
  {
   "cell_type": "code",
   "execution_count": 51,
   "metadata": {},
   "outputs": [],
   "source": [
    "from pyspark.sql import SparkSession as spark\n",
    "from pyspark.sql.functions import when\n",
    "from pyspark.sql import dataframe"
   ]
  },
  {
   "cell_type": "code",
   "execution_count": 57,
   "metadata": {},
   "outputs": [],
   "source": [
    "\n",
    "# creer une session spark\n",
    "spark = SparkSession.builder \\\n",
    "    .appName(\"StudentPerformance\")\\\n",
    "    .getOrCreate()"
   ]
  },
  {
   "cell_type": "code",
   "execution_count": 53,
   "metadata": {},
   "outputs": [],
   "source": [
    "#charger le fichier CSV\n",
    "df = spark.read.csv(\"Student_Performance.csv\")"
   ]
  },
  {
   "cell_type": "code",
   "execution_count": 54,
   "metadata": {},
   "outputs": [
    {
     "data": {
      "text/plain": [
       "Row(_c0='Hours Studied', _c1='Previous Scores', _c2='Extracurricular Activities', _c3='Sleep Hours', _c4='Sample Question Papers Practiced', _c5='Performance Index')"
      ]
     },
     "execution_count": 54,
     "metadata": {},
     "output_type": "execute_result"
    }
   ],
   "source": [
    "df.head()"
   ]
  },
  {
   "cell_type": "markdown",
   "metadata": {},
   "source": [
    "##decription des variables\n",
    "\n",
    "c0= Heures étudiées\n",
    "c1= Scores précédents\n",
    "c2= Activités parascolaires\n",
    "c3= Heures de sommeil\n",
    "c4= Exemples de questionnaires pratiqués\n",
    "c5= Indice de performance"
   ]
  },
  {
   "cell_type": "code",
   "execution_count": null,
   "metadata": {},
   "outputs": [
    {
     "name": "stdout",
     "output_type": "stream",
     "text": [
      "+-----+-----+-----+-----+-----+-----+\n",
      "|  _c0|  _c1|  _c2|  _c3|  _c4|  _c5|\n",
      "+-----+-----+-----+-----+-----+-----+\n",
      "|false|false|false|false|false|false|\n",
      "|false|false|false|false|false|false|\n",
      "|false|false|false|false|false|false|\n",
      "|false|false|false|false|false|false|\n",
      "|false|false|false|false|false|false|\n",
      "|false|false|false|false|false|false|\n",
      "|false|false|false|false|false|false|\n",
      "|false|false|false|false|false|false|\n",
      "|false|false|false|false|false|false|\n",
      "|false|false|false|false|false|false|\n",
      "|false|false|false|false|false|false|\n",
      "|false|false|false|false|false|false|\n",
      "|false|false|false|false|false|false|\n",
      "|false|false|false|false|false|false|\n",
      "|false|false|false|false|false|false|\n",
      "|false|false|false|false|false|false|\n",
      "|false|false|false|false|false|false|\n",
      "|false|false|false|false|false|false|\n",
      "|false|false|false|false|false|false|\n",
      "|false|false|false|false|false|false|\n",
      "+-----+-----+-----+-----+-----+-----+\n",
      "only showing top 20 rows\n",
      "\n"
     ]
    }
   ],
   "source": [
    "##verification des valeurs nullle\n",
    "df.select([df[col].isNull().alias(col) for col in df.columns]).show()"
   ]
  },
  {
   "cell_type": "code",
   "execution_count": 60,
   "metadata": {},
   "outputs": [
    {
     "name": "stdout",
     "output_type": "stream",
     "text": [
      "+---+---+---+---+---+----+-----+\n",
      "|_c0|_c1|_c2|_c3|_c4| _c5|count|\n",
      "+---+---+---+---+---+----+-----+\n",
      "|  4| 57| No|  6|  1|40.0|    2|\n",
      "|  4| 87| No|  5|  0|69.0|    2|\n",
      "|  9| 49| No|  5|  0|46.0|    2|\n",
      "|  7| 90|Yes|  7|  2|83.0|    2|\n",
      "|  5| 58| No|  8|  8|47.0|    2|\n",
      "|  9| 42|Yes|  9|  3|37.0|    2|\n",
      "|  1| 98|Yes|  8|  2|75.0|    2|\n",
      "|  8| 55| No|  8|  3|49.0|    2|\n",
      "|  7| 87|Yes|  4|  7|78.0|    2|\n",
      "|  1| 85|Yes|  7|  8|59.0|    2|\n",
      "|  2| 81| No|  6|  1|59.0|    2|\n",
      "|  9| 87| No|  7|  9|86.0|    2|\n",
      "|  9| 86|Yes|  6|  9|83.0|    2|\n",
      "|  3| 46| No|  7|  7|26.0|    2|\n",
      "|  1| 66| No|  8|  2|40.0|    2|\n",
      "|  6| 86| No|  6|  5|74.0|    2|\n",
      "|  5| 75| No|  9|  3|62.0|    2|\n",
      "|  8| 82| No|  8|  3|79.0|    2|\n",
      "|  8| 65| No|  4|  8|57.0|    2|\n",
      "|  5| 94| No|  8|  8|81.0|    2|\n",
      "+---+---+---+---+---+----+-----+\n",
      "only showing top 20 rows\n",
      "\n"
     ]
    }
   ],
   "source": [
    "##afficher les doublons\n",
    "##df.show()\n",
    "df.groupBy(df.columns).count().filter(\"count>1\").show()"
   ]
  },
  {
   "cell_type": "code",
   "execution_count": 61,
   "metadata": {},
   "outputs": [
    {
     "name": "stdout",
     "output_type": "stream",
     "text": [
      "+---+---+---+---+---+----+\n",
      "|_c0|_c1|_c2|_c3|_c4| _c5|\n",
      "+---+---+---+---+---+----+\n",
      "|  1| 85|Yes|  7|  9|58.0|\n",
      "|  6| 43|Yes|  4|  0|27.0|\n",
      "|  8| 43| No|  6|  4|36.0|\n",
      "|  5| 81| No|  6|  5|66.0|\n",
      "|  7| 53| No|  9|  1|41.0|\n",
      "|  7| 99|Yes|  9|  3|92.0|\n",
      "|  8| 81| No|  5|  2|76.0|\n",
      "|  2| 60| No|  4|  5|35.0|\n",
      "|  1| 85| No|  7|  8|60.0|\n",
      "|  2| 52|Yes|  8|  9|31.0|\n",
      "|  4| 40|Yes|  4|  0|23.0|\n",
      "|  3| 97| No|  7|  9|75.0|\n",
      "|  5| 78|Yes|  5|  9|64.0|\n",
      "|  3| 79|Yes|  6|  3|62.0|\n",
      "|  2| 80|Yes|  7|  2|60.0|\n",
      "|  3| 60|Yes|  8|  8|43.0|\n",
      "|  4| 81| No|  7|  9|70.0|\n",
      "|  5| 67|Yes|  7|  6|51.0|\n",
      "|  1| 40| No|  9|  6|13.0|\n",
      "|  2| 73|Yes|  6|  6|48.0|\n",
      "+---+---+---+---+---+----+\n",
      "only showing top 20 rows\n",
      "\n"
     ]
    }
   ],
   "source": [
    "##supprimer les doublons\n",
    "df.dropDuplicates().show()"
   ]
  },
  {
   "cell_type": "code",
   "execution_count": null,
   "metadata": {},
   "outputs": [
    {
     "name": "stdout",
     "output_type": "stream",
     "text": [
      "+-------------+---------------+--------------------+-----------+--------------------+-----------------+\n",
      "|          _c0|            _c1|                 _c2|        _c3|                 _c4|              _c5|\n",
      "+-------------+---------------+--------------------+-----------+--------------------+-----------------+\n",
      "|Hours Studied|Previous Scores|Extracurricular A...|Sleep Hours|Sample Question P...|Performance Index|\n",
      "|            7|             99|                 Yes|          9|                   1|             91.0|\n",
      "|            4|             82|                  No|          4|                   2|             65.0|\n",
      "|            8|             51|                 Yes|          7|                   2|             45.0|\n",
      "|            5|             52|                 Yes|          5|                   2|             36.0|\n",
      "|            7|             75|                  No|          8|                   5|             66.0|\n",
      "|            3|             78|                  No|          9|                   6|             61.0|\n",
      "|            7|             73|                 Yes|          5|                   6|             63.0|\n",
      "|            8|             45|                 Yes|          4|                   6|             42.0|\n",
      "|            5|             77|                  No|          8|                   2|             61.0|\n",
      "|            4|             89|                  No|          4|                   0|             69.0|\n",
      "|            8|             91|                  No|          4|                   5|             84.0|\n",
      "|            8|             79|                  No|          6|                   2|             73.0|\n",
      "|            3|             47|                  No|          9|                   2|             27.0|\n",
      "|            6|             47|                  No|          4|                   2|             33.0|\n",
      "|            5|             79|                  No|          7|                   8|             68.0|\n",
      "|            2|             72|                  No|          4|                   3|             43.0|\n",
      "|            8|             73|                 Yes|          8|                   4|             67.0|\n",
      "|            6|             83|                 Yes|          7|                   2|             70.0|\n",
      "|            2|             54|                 Yes|          4|                   9|             30.0|\n",
      "+-------------+---------------+--------------------+-----------+--------------------+-----------------+\n",
      "only showing top 20 rows\n",
      "\n"
     ]
    }
   ],
   "source": [
    "\n",
    "df.show()"
   ]
  },
  {
   "cell_type": "code",
   "execution_count": 68,
   "metadata": {},
   "outputs": [
    {
     "name": "stdout",
     "output_type": "stream",
     "text": [
      "+-------------+---------------+--------------------+-----------+--------------------+-----------------+\n",
      "|          _c0|            _c1|                 _c2|        _c3|                 _c4|              _c5|\n",
      "+-------------+---------------+--------------------+-----------+--------------------+-----------------+\n",
      "|Hours Studied|Previous Scores|Extracurricular A...|Sleep Hours|Sample Question P...|Performance Index|\n",
      "|            7|             99|                 Yes|          9|                   1|             91.0|\n",
      "|            4|             82|                  No|          4|                   2|             65.0|\n",
      "|            8|             51|                 Yes|          7|                   2|             45.0|\n",
      "|            5|             52|                 Yes|          5|                   2|             36.0|\n",
      "|            7|             75|                  No|          8|                   5|             66.0|\n",
      "|            3|             78|                  No|          9|                   6|             61.0|\n",
      "|            7|             73|                 Yes|          5|                   6|             63.0|\n",
      "|            8|             45|                 Yes|          4|                   6|             42.0|\n",
      "|            5|             77|                  No|          8|                   2|             61.0|\n",
      "|            4|             89|                  No|          4|                   0|             69.0|\n",
      "|            8|             91|                  No|          4|                   5|             84.0|\n",
      "|            8|             79|                  No|          6|                   2|             73.0|\n",
      "|            3|             47|                  No|          9|                   2|             27.0|\n",
      "|            6|             47|                  No|          4|                   2|             33.0|\n",
      "|            5|             79|                  No|          7|                   8|             68.0|\n",
      "|            2|             72|                  No|          4|                   3|             43.0|\n",
      "|            8|             73|                 Yes|          8|                   4|             67.0|\n",
      "|            6|             83|                 Yes|          7|                   2|             70.0|\n",
      "|            2|             54|                 Yes|          4|                   9|             30.0|\n",
      "+-------------+---------------+--------------------+-----------+--------------------+-----------------+\n",
      "only showing top 20 rows\n",
      "\n"
     ]
    }
   ],
   "source": [
    "\n",
    "df.withColumn(\"Extracurricular Activities\", when(df[\"_c2\"] == \"Yes\", 1). when(df[\"_c2\"] == \"No\", 1))\n",
    "df.show()"
   ]
  },
  {
   "cell_type": "code",
   "execution_count": 65,
   "metadata": {},
   "outputs": [
    {
     "name": "stdout",
     "output_type": "stream",
     "text": [
      "+-------+------------------+-----------------+--------------------+-----------------+--------------------+------------------+\n",
      "|summary|               _c0|              _c1|                 _c2|              _c3|                 _c4|               _c5|\n",
      "+-------+------------------+-----------------+--------------------+-----------------+--------------------+------------------+\n",
      "|  count|             10001|            10001|               10001|            10001|               10001|             10001|\n",
      "|   mean|            4.9929|          69.4457|                NULL|           6.5306|              4.5833|           55.2248|\n",
      "| stddev|2.5893087961856183|17.34315225104711|                NULL|1.695862976517708|  2.8673477777081446|19.212557799463337|\n",
      "|    min|                 1|               40|Extracurricular A...|                4|                   0|              10.0|\n",
      "|    max|     Hours Studied|  Previous Scores|                 Yes|      Sleep Hours|Sample Question P...| Performance Index|\n",
      "+-------+------------------+-----------------+--------------------+-----------------+--------------------+------------------+\n",
      "\n"
     ]
    }
   ],
   "source": [
    "df.describe().show()"
   ]
  }
 ],
 "metadata": {
  "kernelspec": {
   "display_name": "Python 3",
   "language": "python",
   "name": "python3"
  },
  "language_info": {
   "codemirror_mode": {
    "name": "ipython",
    "version": 3
   },
   "file_extension": ".py",
   "mimetype": "text/x-python",
   "name": "python",
   "nbconvert_exporter": "python",
   "pygments_lexer": "ipython3",
   "version": "3.11.8"
  }
 },
 "nbformat": 4,
 "nbformat_minor": 2
}
