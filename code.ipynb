{
 "cells": [
  {
   "cell_type": "markdown",
   "metadata": {},
   "source": [
    "#UQO\n",
    "## PROJET2 DE SCIENCES DE DONNEES \n",
    "AUTOMNE 2024\n"
   ]
  },
  {
   "cell_type": "markdown",
   "metadata": {},
   "source": [
    "# MENBRES DU GROUPE\n",
    "MEGANE\n",
    "BRYAN\n",
    "NELI"
   ]
  },
  {
   "cell_type": "markdown",
   "metadata": {},
   "source": [
    "#OBJECTIFS:\n"
   ]
  },
  {
   "cell_type": "code",
   "execution_count": 14,
   "metadata": {},
   "outputs": [],
   "source": [
    "from pyspark.sql import SparkSession as spark\n",
    "# creer une session spark\n",
    "spark = SparkSession.builder \\\n",
    "    .appName(\"ali\")\\\n",
    "    .getOrCreate()"
   ]
  },
  {
   "cell_type": "code",
   "execution_count": null,
   "metadata": {},
   "outputs": [],
   "source": [
    "#charger le fichier CSV\n",
    "df = spark.read.csv(\"Student_Performance.csv\")"
   ]
  },
  {
   "cell_type": "code",
   "execution_count": 16,
   "metadata": {},
   "outputs": [
    {
     "data": {
      "text/plain": [
       "DataFrame[summary: string, _c0: string, _c1: string, _c2: string, _c3: string, _c4: string, _c5: string]"
      ]
     },
     "execution_count": 16,
     "metadata": {},
     "output_type": "execute_result"
    }
   ],
   "source": [
    "df.describe()"
   ]
  },
  {
   "cell_type": "code",
   "execution_count": 19,
   "metadata": {},
   "outputs": [
    {
     "name": "stdout",
     "output_type": "stream",
     "text": [
      "['_c0', '_c1', '_c2', '_c3', '_c4', '_c5']\n"
     ]
    },
    {
     "data": {
      "text/plain": [
       "Row(_c0='Hours Studied', _c1='Previous Scores', _c2='Extracurricular Activities', _c3='Sleep Hours', _c4='Sample Question Papers Practiced', _c5='Performance Index')"
      ]
     },
     "execution_count": 19,
     "metadata": {},
     "output_type": "execute_result"
    }
   ],
   "source": [
    "print(df.columns)\n",
    "df.head()"
   ]
  },
  {
   "cell_type": "code",
   "execution_count": null,
   "metadata": {},
   "outputs": [
    {
     "name": "stdout",
     "output_type": "stream",
     "text": [
      "+-----+-----+-----+-----+-----+-----+\n",
      "|  _c0|  _c1|  _c2|  _c3|  _c4|  _c5|\n",
      "+-----+-----+-----+-----+-----+-----+\n",
      "|false|false|false|false|false|false|\n",
      "|false|false|false|false|false|false|\n",
      "|false|false|false|false|false|false|\n",
      "|false|false|false|false|false|false|\n",
      "|false|false|false|false|false|false|\n",
      "|false|false|false|false|false|false|\n",
      "|false|false|false|false|false|false|\n",
      "|false|false|false|false|false|false|\n",
      "|false|false|false|false|false|false|\n",
      "|false|false|false|false|false|false|\n",
      "|false|false|false|false|false|false|\n",
      "|false|false|false|false|false|false|\n",
      "|false|false|false|false|false|false|\n",
      "|false|false|false|false|false|false|\n",
      "|false|false|false|false|false|false|\n",
      "|false|false|false|false|false|false|\n",
      "|false|false|false|false|false|false|\n",
      "|false|false|false|false|false|false|\n",
      "|false|false|false|false|false|false|\n",
      "|false|false|false|false|false|false|\n",
      "+-----+-----+-----+-----+-----+-----+\n",
      "only showing top 20 rows\n",
      "\n"
     ]
    }
   ],
   "source": [
    "#verification des valeurs nullle\n",
    "df.select([df[col].isNull().alias(col) for col in df.columns]).show()"
   ]
  },
  {
   "cell_type": "code",
   "execution_count": 22,
   "metadata": {},
   "outputs": [
    {
     "name": "stdout",
     "output_type": "stream",
     "text": [
      "+---+---+---+---+---+----+-----+\n",
      "|_c0|_c1|_c2|_c3|_c4| _c5|count|\n",
      "+---+---+---+---+---+----+-----+\n",
      "|  4| 57| No|  6|  1|40.0|    2|\n",
      "|  4| 87| No|  5|  0|69.0|    2|\n",
      "|  9| 49| No|  5|  0|46.0|    2|\n",
      "|  7| 90|Yes|  7|  2|83.0|    2|\n",
      "|  5| 58| No|  8|  8|47.0|    2|\n",
      "|  9| 42|Yes|  9|  3|37.0|    2|\n",
      "|  1| 98|Yes|  8|  2|75.0|    2|\n",
      "|  8| 55| No|  8|  3|49.0|    2|\n",
      "|  7| 87|Yes|  4|  7|78.0|    2|\n",
      "|  1| 85|Yes|  7|  8|59.0|    2|\n",
      "|  2| 81| No|  6|  1|59.0|    2|\n",
      "|  9| 87| No|  7|  9|86.0|    2|\n",
      "|  9| 86|Yes|  6|  9|83.0|    2|\n",
      "|  3| 46| No|  7|  7|26.0|    2|\n",
      "|  1| 66| No|  8|  2|40.0|    2|\n",
      "|  6| 86| No|  6|  5|74.0|    2|\n",
      "|  5| 75| No|  9|  3|62.0|    2|\n",
      "|  8| 82| No|  8|  3|79.0|    2|\n",
      "|  8| 65| No|  4|  8|57.0|    2|\n",
      "|  5| 94| No|  8|  8|81.0|    2|\n",
      "+---+---+---+---+---+----+-----+\n",
      "only showing top 20 rows\n",
      "\n"
     ]
    }
   ],
   "source": [
    "#afficher les doublons\n",
    "df.groupBy(df.columns).count().filter(\"count>1\").show()"
   ]
  },
  {
   "cell_type": "code",
   "execution_count": 23,
   "metadata": {},
   "outputs": [
    {
     "data": {
      "text/plain": [
       "DataFrame[_c0: string, _c1: string, _c2: string, _c3: string, _c4: string, _c5: string]"
      ]
     },
     "execution_count": 23,
     "metadata": {},
     "output_type": "execute_result"
    }
   ],
   "source": [
    "#supprimer les doublons\n",
    "df.dropDuplicates()"
   ]
  }
 ],
 "metadata": {
  "kernelspec": {
   "display_name": "Python 3",
   "language": "python",
   "name": "python3"
  },
  "language_info": {
   "codemirror_mode": {
    "name": "ipython",
    "version": 3
   },
   "file_extension": ".py",
   "mimetype": "text/x-python",
   "name": "python",
   "nbconvert_exporter": "python",
   "pygments_lexer": "ipython3",
   "version": "3.11.8"
  }
 },
 "nbformat": 4,
 "nbformat_minor": 2
}
