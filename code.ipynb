{
 "cells": [
  {
   "cell_type": "markdown",
   "metadata": {},
   "source": [
    "#UQO\n",
    "## PROJET2 DE SCIENCES DE DONNEES \n",
    "AUTOMNE 2024\n"
   ]
  },
  {
   "cell_type": "markdown",
   "metadata": {},
   "source": [
    "# MENBRES DU GROUPE\n",
    "MEGANE\n",
    "BRYAN\n",
    "NELI"
   ]
  },
  {
   "cell_type": "markdown",
   "metadata": {},
   "source": [
    "#OBJECTIFS:\n"
   ]
  },
  {
   "cell_type": "code",
   "execution_count": 14,
   "metadata": {},
   "outputs": [],
   "source": [
    "from pyspark.sql import SparkSession as spark\n",
    "# creer une session spark\n",
    "spark = SparkSession.builder \\\n",
    "    .appName(\"ali\")\\\n",
    "    .getOrCreate()"
   ]
  },
  {
   "cell_type": "code",
   "execution_count": null,
   "metadata": {},
   "outputs": [],
   "source": [
    "#charger le fichier CSV\n",
    "df = spark.read.csv(\"Student_Performance.csv\")"
   ]
  }
 ],
 "metadata": {
  "kernelspec": {
   "display_name": "Python 3",
   "language": "python",
   "name": "python3"
  },
  "language_info": {
   "codemirror_mode": {
    "name": "ipython",
    "version": 3
   },
   "file_extension": ".py",
   "mimetype": "text/x-python",
   "name": "python",
   "nbconvert_exporter": "python",
   "pygments_lexer": "ipython3",
   "version": "3.11.8"
  }
 },
 "nbformat": 4,
 "nbformat_minor": 2
}
